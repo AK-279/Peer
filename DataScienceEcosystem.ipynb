{
 "cells": [
  {
   "cell_type": "markdown",
   "id": "75de65f0-e7e1-44d4-9d8d-1fd70662adae",
   "metadata": {},
   "source": [
    "# Data Science Tools and Ecosystem"
   ]
  },
  {
   "cell_type": "markdown",
   "id": "2a09d9de-9425-4b6e-a726-a45cb9693e5e",
   "metadata": {},
   "source": [
    "## Author \n",
    "AK "
   ]
  },
  {
   "cell_type": "markdown",
   "id": "92bda90c-7407-4f53-b0aa-b740ed9137c0",
   "metadata": {},
   "source": [
    "### In this notebook, Data Science Tools and Ecosystem are summarized."
   ]
  },
  {
   "cell_type": "markdown",
   "id": "64b53495-5011-4ae6-b3e9-d2a7f86e3256",
   "metadata": {},
   "source": [
    "### Objectives:\n",
    "* List - Popular languages for Data Science.\n",
    "* List - Commonly used libraries for Data Science.\n",
    "* List - Popular Data Science tools.\n",
    "* A few simple arithmetic expressions in Python."
   ]
  },
  {
   "cell_type": "markdown",
   "id": "0f3d89cb-7b2d-41d0-b937-507dba533067",
   "metadata": {},
   "source": [
    "### Some of the popular languages that Data Scientists use are:\n",
    "1. Python\n",
    "2. SQL\n",
    "3. R"
   ]
  },
  {
   "cell_type": "markdown",
   "id": "04ac60bc-b3ce-4a7a-ad9e-5f8880cb5a20",
   "metadata": {},
   "source": [
    "### Some of the commonly used libraries used by Data Scientists include:\n",
    "1. TensorFlow\n",
    "2. Keras\n",
    "3. Pybrain"
   ]
  },
  {
   "cell_type": "markdown",
   "id": "c1282b15-0e8d-4c2d-9b8d-1c48030f92ac",
   "metadata": {},
   "source": [
    "Data Science Tools |\n",
    "--- |\n",
    "Jupyterlabs |\n",
    "RStudio |\n",
    "Watson Studio |"
   ]
  },
  {
   "cell_type": "markdown",
   "id": "5a1f6bc2-ce5c-4afb-a400-ffadd02f2432",
   "metadata": {
    "tags": []
   },
   "source": [
    "### Below are a few examples of evaluating arithmetic expressions in Python."
   ]
  },
  {
   "cell_type": "code",
   "execution_count": 2,
   "id": "d7220c59-1140-4f92-bf8f-f31eee17e657",
   "metadata": {},
   "outputs": [
    {
     "data": {
      "text/plain": [
       "17"
      ]
     },
     "execution_count": 2,
     "metadata": {},
     "output_type": "execute_result"
    }
   ],
   "source": [
    "# This a simple arithmetic expression to mutiply then add integers\n",
    "(3*4)+5"
   ]
  },
  {
   "cell_type": "code",
   "execution_count": 3,
   "id": "38ff5d06-ba9d-4ab2-a4b2-2354330f03c5",
   "metadata": {},
   "outputs": [
    {
     "name": "stdout",
     "output_type": "stream",
     "text": [
      "3.3333333333333335 hours\n"
     ]
    }
   ],
   "source": [
    "# This will convert 200 minutes to hours by diving by 60.\n",
    "minutes = 200\n",
    "hour = minutes/60\n",
    "print(hour,\"hours\")"
   ]
  }
 ],
 "metadata": {
  "kernelspec": {
   "display_name": "Python",
   "language": "python",
   "name": "conda-env-python-py"
  },
  "language_info": {
   "codemirror_mode": {
    "name": "ipython",
    "version": 3
   },
   "file_extension": ".py",
   "mimetype": "text/x-python",
   "name": "python",
   "nbconvert_exporter": "python",
   "pygments_lexer": "ipython3",
   "version": "3.7.12"
  }
 },
 "nbformat": 4,
 "nbformat_minor": 5
}
